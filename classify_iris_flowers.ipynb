{
  "nbformat": 4,
  "nbformat_minor": 0,
  "metadata": {
    "colab": {
      "provenance": [],
      "authorship_tag": "ABX9TyNTilGaO5yQCGg060VzjsJD",
      "include_colab_link": true
    },
    "kernelspec": {
      "name": "python3",
      "display_name": "Python 3"
    },
    "language_info": {
      "name": "python"
    }
  },
  "cells": [
    {
      "cell_type": "markdown",
      "metadata": {
        "id": "view-in-github",
        "colab_type": "text"
      },
      "source": [
        "<a href=\"https://colab.research.google.com/github/ankishore/classify_iris_flowers/blob/main/classify_iris_flowers.ipynb\" target=\"_parent\"><img src=\"https://colab.research.google.com/assets/colab-badge.svg\" alt=\"Open In Colab\"/></a>"
      ]
    },
    {
      "cell_type": "markdown",
      "source": [
        "# Import libraries"
      ],
      "metadata": {
        "id": "I_A2nUXK3PqZ"
      }
    },
    {
      "cell_type": "code",
      "source": [
        "import torch\n",
        "import torch.nn as nn\n",
        "import torch.nn.functional as F\n",
        "import pandas as pd\n",
        "import matplotlib.pyplot as plt\n",
        "from torch.utils.data import Dataset, DataLoader\n",
        "from sklearn.model_selection import train_test_split"
      ],
      "metadata": {
        "id": "dnvjQLcJ3T3O"
      },
      "execution_count": 23,
      "outputs": []
    },
    {
      "cell_type": "markdown",
      "source": [
        "# Create model"
      ],
      "metadata": {
        "id": "snFmcbfl4Z75"
      }
    },
    {
      "cell_type": "code",
      "source": [
        "class Model(nn.Module):\n",
        "\n",
        "  # Layers organized as layer(number of neurons)\n",
        "  # input(4) --> hidden1(8) --> hidden2(9) --> out(3)\n",
        "  def __init__(self, in_features=4, h1=8, h2=9, out_features=3):\n",
        "    super().__init__()\n",
        "    self.fc1 = nn.Linear(in_features, h1) # Fully connect input layer to h1\n",
        "    self.fc2 = nn.Linear(h1, h2) # Fully connect h1 to h2\n",
        "    self.out = nn.Linear(h2, out_features) # Fully connect h2 to out layer\n",
        "\n",
        "  # Use ReLU activation function\n",
        "  def forward(self, x):\n",
        "    x = F.relu(self.fc1(x))\n",
        "    x = F.relu(self.fc2(x))\n",
        "    x = self.out(x)\n",
        "\n",
        "    return x\n",
        "\n",
        "# Instantiate the model\n",
        "model = Model()"
      ],
      "metadata": {
        "id": "sYfEc4hB4dmJ"
      },
      "execution_count": 24,
      "outputs": []
    },
    {
      "cell_type": "markdown",
      "source": [
        "# Load iris dataset"
      ],
      "metadata": {
        "id": "Fuva8u4jXcm8"
      }
    },
    {
      "cell_type": "code",
      "source": [
        "df = pd.read_csv('https://raw.githubusercontent.com/ankishore/classify_iris_flowers/main/iris.csv')"
      ],
      "metadata": {
        "id": "PvM_oH16XgiI"
      },
      "execution_count": 25,
      "outputs": []
    },
    {
      "cell_type": "markdown",
      "source": [
        "# Split dataset for train and test"
      ],
      "metadata": {
        "id": "_VcOYLJwXw3v"
      }
    },
    {
      "cell_type": "code",
      "source": [
        "X = df.drop('target', axis=1).values # Drop last column (i.e. column name target) and get numpy\n",
        "y = df['target'].values\n",
        "\n",
        "# Split dataset with 80% in train set\n",
        "X_train, X_test, y_train, y_test = train_test_split(X, y, test_size=0.2)\n",
        "\n",
        "# Create tensor train/test dataset\n",
        "X_train = torch.FloatTensor(X_train)\n",
        "X_test = torch.FloatTensor(X_test)\n",
        "y_train = torch.LongTensor(y_train)\n",
        "y_test = torch.LongTensor(y_test)"
      ],
      "metadata": {
        "id": "vdYUCCgXX5kU"
      },
      "execution_count": 26,
      "outputs": []
    },
    {
      "cell_type": "markdown",
      "source": [
        "# Set loss funciton and optimizer"
      ],
      "metadata": {
        "id": "YfArIiria9_m"
      }
    },
    {
      "cell_type": "code",
      "source": [
        "criterion = nn.CrossEntropyLoss()\n",
        "\n",
        "# Adam is variant of stochastic gradient descent called Adaptive Moment Estimation\n",
        "optimizer = torch.optim.Adam(model.parameters(), lr=0.01)"
      ],
      "metadata": {
        "id": "RLv7KEXnbCA5"
      },
      "execution_count": 27,
      "outputs": []
    },
    {
      "cell_type": "markdown",
      "source": [
        "# Train the model"
      ],
      "metadata": {
        "id": "etCtkDPcbp3v"
      }
    },
    {
      "cell_type": "code",
      "source": [
        "epochs = 100\n",
        "losses = []\n",
        "\n",
        "for i in range(epochs):\n",
        "  y_pred = model.forward(X_train)\n",
        "  loss = criterion(y_pred, y_train)\n",
        "  losses.append(loss.item())\n",
        "\n",
        "  if i%10 == 1:\n",
        "    print(f'epoch: {i} loss: {loss.item()}')\n",
        "\n",
        "  optimizer.zero_grad()\n",
        "  loss.backward()\n",
        "  optimizer.step()"
      ],
      "metadata": {
        "colab": {
          "base_uri": "https://localhost:8080/"
        },
        "id": "TXUAf3Sabr_6",
        "outputId": "ae57453a-ebc0-4cc0-a544-ba554cb8b1ec"
      },
      "execution_count": 28,
      "outputs": [
        {
          "output_type": "stream",
          "name": "stdout",
          "text": [
            "epoch: 1 loss: 1.0515797138214111\n",
            "epoch: 11 loss: 0.8263624310493469\n",
            "epoch: 21 loss: 0.5168860554695129\n",
            "epoch: 31 loss: 0.3419422507286072\n",
            "epoch: 41 loss: 0.2247483879327774\n",
            "epoch: 51 loss: 0.13678096234798431\n",
            "epoch: 61 loss: 0.09354770928621292\n",
            "epoch: 71 loss: 0.0752849206328392\n",
            "epoch: 81 loss: 0.06668732315301895\n",
            "epoch: 91 loss: 0.06210373714566231\n"
          ]
        }
      ]
    },
    {
      "cell_type": "markdown",
      "source": [
        "# Plot loss"
      ],
      "metadata": {
        "id": "U8suqpwygW2z"
      }
    },
    {
      "cell_type": "code",
      "source": [
        "plt.plot(range(epochs), losses)\n",
        "plt.ylabel('Loss')\n",
        "plt.xlabel('epoch')"
      ],
      "metadata": {
        "colab": {
          "base_uri": "https://localhost:8080/",
          "height": 296
        },
        "id": "E_NpR0UFgYgN",
        "outputId": "5614b8d7-47dd-4ed2-9350-4d1bde50f3dc"
      },
      "execution_count": 29,
      "outputs": [
        {
          "output_type": "execute_result",
          "data": {
            "text/plain": [
              "Text(0.5, 0, 'epoch')"
            ]
          },
          "metadata": {},
          "execution_count": 29
        },
        {
          "output_type": "display_data",
          "data": {
            "text/plain": [
              "<Figure size 432x288 with 1 Axes>"
            ],
            "image/png": "[encoded data removed]"
          },
          "metadata": {
            "needs_background": "light"
          }
        }
      ]
    },
    {
      "cell_type": "markdown",
      "source": [
        "# Validate model"
      ],
      "metadata": {
        "id": "SaAOlZsRigE_"
      }
    },
    {
      "cell_type": "code",
      "source": [
        "with torch.no_grad(): # Disable gradient calculation\n",
        "  y_val = model.forward(X_test)\n",
        "  loss = criterion(y_val, y_test)\n",
        "\n",
        "print(f'loss: {loss}')"
      ],
      "metadata": {
        "colab": {
          "base_uri": "https://localhost:8080/"
        },
        "id": "wX5zCmv2iiVd",
        "outputId": "9942141e-b853-4e13-943e-9389d013fa0f"
      },
      "execution_count": 30,
      "outputs": [
        {
          "output_type": "stream",
          "name": "stdout",
          "text": [
            "loss: 0.048020463436841965\n"
          ]
        }
      ]
    }
  ]
}